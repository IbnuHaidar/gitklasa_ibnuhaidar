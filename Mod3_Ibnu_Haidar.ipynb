{
 "cells": [
  {
   "cell_type": "markdown",
   "id": "cd04c285-b224-43e3-8c86-8646b0fadf09",
   "metadata": {},
   "source": [
    "<center><h2>Technical Task (Module 3) - <b>Data Analytics 1.0</b></center>"
   ]
  },
  {
   "cell_type": "markdown",
   "id": "de117b49-b933-407b-87ff-f541f3dc4adf",
   "metadata": {},
   "source": [
    "# Objectives\n",
    "> In this task, we would like you to do exploratory data analysis (EDA) using. Data processing and\n",
    "visualization should be done using Python\n",
    "# Instructions\n",
    "![dataset](images/load_diabetes.jpg)\n",
    "> Using Sklearn Diabetes data, create an EDA that answers the defined objective :\n",
    "><b>What are the factors that contribute to the disease progression of a diabetes patient?</b>\n",
    "\n",
    "<b>Note on the assignment</b> :\n",
    "- Provide 5 questions and or assumptions\n",
    "- Use some data visualization\n",
    "- Provide conclusion and or recommendation based on the analysis\n",
    "- Please provide link to your Google Colab notebook OR attach the .ipynb files if you are using Jupyter notebook"
   ]
  },
  {
   "cell_type": "markdown",
   "id": "da715994-d143-42b3-8d48-a1d04168ee0b",
   "metadata": {},
   "source": [
    "<h3>Load Dataset"
   ]
  },
  {
   "cell_type": "code",
   "execution_count": 1,
   "id": "ff79de29-ad99-456d-8f7c-2fff4cdba67d",
   "metadata": {},
   "outputs": [],
   "source": [
    "import pandas as pd\n",
    "import numpy as np\n",
    "import math\n",
    "import seaborn as sns\n",
    "from sklearn.datasets import load_diabetes\n",
    "data_dia = load_diabetes()"
   ]
  },
  {
   "cell_type": "markdown",
   "id": "da9d53b4-9ce1-41d9-8614-c8c490569702",
   "metadata": {},
   "source": [
    "<h3>The Properties of The Data"
   ]
  },
  {
   "cell_type": "code",
   "execution_count": 2,
   "id": "ff010ddd-63ed-4324-a591-3c18defcee5c",
   "metadata": {},
   "outputs": [
    {
     "name": "stdout",
     "output_type": "stream",
     "text": [
      ".. _diabetes_dataset:\n",
      "\n",
      "Diabetes dataset\n",
      "----------------\n",
      "\n",
      "Ten baseline variables, age, sex, body mass index, average blood\n",
      "pressure, and six blood serum measurements were obtained for each of n =\n",
      "442 diabetes patients, as well as the response of interest, a\n",
      "quantitative measure of disease progression one year after baseline.\n",
      "\n",
      "**Data Set Characteristics:**\n",
      "\n",
      "  :Number of Instances: 442\n",
      "\n",
      "  :Number of Attributes: First 10 columns are numeric predictive values\n",
      "\n",
      "  :Target: Column 11 is a quantitative measure of disease progression one year after baseline\n",
      "\n",
      "  :Attribute Information:\n",
      "      - age     age in years\n",
      "      - sex\n",
      "      - bmi     body mass index\n",
      "      - bp      average blood pressure\n",
      "      - s1      tc, total serum cholesterol\n",
      "      - s2      ldl, low-density lipoproteins\n",
      "      - s3      hdl, high-density lipoproteins\n",
      "      - s4      tch, total cholesterol / HDL\n",
      "      - s5      ltg, possibly log of serum triglycerides level\n",
      "      - s6      glu, blood sugar level\n",
      "\n",
      "Note: Each of these 10 feature variables have been mean centered and scaled by the standard deviation times `n_samples` (i.e. the sum of squares of each column totals 1).\n",
      "\n",
      "Source URL:\n",
      "https://www4.stat.ncsu.edu/~boos/var.select/diabetes.html\n",
      "\n",
      "For more information see:\n",
      "Bradley Efron, Trevor Hastie, Iain Johnstone and Robert Tibshirani (2004) \"Least Angle Regression,\" Annals of Statistics (with discussion), 407-499.\n",
      "(https://web.stanford.edu/~hastie/Papers/LARS/LeastAngle_2002.pdf)\n"
     ]
    }
   ],
   "source": [
    "print(data_dia.DESCR)"
   ]
  },
  {
   "cell_type": "markdown",
   "id": "c483ef33-edbe-4e3d-ace4-7d8ecac4e25d",
   "metadata": {},
   "source": [
    "[The jurnal](https://web.stanford.edu/~hastie/Papers/LARS/LeastAngle_2002.pdf), said that ten baseline variables, age, sex, body mass index, average blood pressure, and six blood serum measurements were obtained for each of n = 442 diabetes patients, as well as the response of interest, a quantitative measure of disease progression one year after baseline.\n",
    "\n",
    "Disease progression describes the natural history of disease, such as pain, or biomarker of drug response, such as blood pressure. The action of a drug, such as inhibiting an enzyme or activating a receptor, leads to a change in disease status over time (https://www.ncbi.nlm.nih.gov). Progressive disease is a term that describes a disease that is progressing or worsening (https://www.verywellhealth.com)."
   ]
  },
  {
   "cell_type": "markdown",
   "id": "42d66d15-462b-4dbf-8ba5-a65ae66d8e50",
   "metadata": {},
   "source": [
    "<h3>Display Top 5 Rows of The Dataframe"
   ]
  },
  {
   "cell_type": "code",
   "execution_count": 3,
   "id": "b92108a2-3d1f-4300-b7cc-ed239a34e720",
   "metadata": {},
   "outputs": [
    {
     "data": {
      "text/html": [
       "<div>\n",
       "<style scoped>\n",
       "    .dataframe tbody tr th:only-of-type {\n",
       "        vertical-align: middle;\n",
       "    }\n",
       "\n",
       "    .dataframe tbody tr th {\n",
       "        vertical-align: top;\n",
       "    }\n",
       "\n",
       "    .dataframe thead th {\n",
       "        text-align: right;\n",
       "    }\n",
       "</style>\n",
       "<table border=\"1\" class=\"dataframe\">\n",
       "  <thead>\n",
       "    <tr style=\"text-align: right;\">\n",
       "      <th></th>\n",
       "      <th>age</th>\n",
       "      <th>sex</th>\n",
       "      <th>bmi</th>\n",
       "      <th>bp</th>\n",
       "      <th>s1</th>\n",
       "      <th>s2</th>\n",
       "      <th>s3</th>\n",
       "      <th>s4</th>\n",
       "      <th>s5</th>\n",
       "      <th>s6</th>\n",
       "      <th>disease_pro</th>\n",
       "    </tr>\n",
       "  </thead>\n",
       "  <tbody>\n",
       "    <tr>\n",
       "      <th>0</th>\n",
       "      <td>0.038076</td>\n",
       "      <td>0.050680</td>\n",
       "      <td>0.061696</td>\n",
       "      <td>0.021872</td>\n",
       "      <td>-0.044223</td>\n",
       "      <td>-0.034821</td>\n",
       "      <td>-0.043401</td>\n",
       "      <td>-0.002592</td>\n",
       "      <td>0.019908</td>\n",
       "      <td>-0.017646</td>\n",
       "      <td>151.0</td>\n",
       "    </tr>\n",
       "    <tr>\n",
       "      <th>1</th>\n",
       "      <td>-0.001882</td>\n",
       "      <td>-0.044642</td>\n",
       "      <td>-0.051474</td>\n",
       "      <td>-0.026328</td>\n",
       "      <td>-0.008449</td>\n",
       "      <td>-0.019163</td>\n",
       "      <td>0.074412</td>\n",
       "      <td>-0.039493</td>\n",
       "      <td>-0.068330</td>\n",
       "      <td>-0.092204</td>\n",
       "      <td>75.0</td>\n",
       "    </tr>\n",
       "    <tr>\n",
       "      <th>2</th>\n",
       "      <td>0.085299</td>\n",
       "      <td>0.050680</td>\n",
       "      <td>0.044451</td>\n",
       "      <td>-0.005671</td>\n",
       "      <td>-0.045599</td>\n",
       "      <td>-0.034194</td>\n",
       "      <td>-0.032356</td>\n",
       "      <td>-0.002592</td>\n",
       "      <td>0.002864</td>\n",
       "      <td>-0.025930</td>\n",
       "      <td>141.0</td>\n",
       "    </tr>\n",
       "    <tr>\n",
       "      <th>3</th>\n",
       "      <td>-0.089063</td>\n",
       "      <td>-0.044642</td>\n",
       "      <td>-0.011595</td>\n",
       "      <td>-0.036656</td>\n",
       "      <td>0.012191</td>\n",
       "      <td>0.024991</td>\n",
       "      <td>-0.036038</td>\n",
       "      <td>0.034309</td>\n",
       "      <td>0.022692</td>\n",
       "      <td>-0.009362</td>\n",
       "      <td>206.0</td>\n",
       "    </tr>\n",
       "    <tr>\n",
       "      <th>4</th>\n",
       "      <td>0.005383</td>\n",
       "      <td>-0.044642</td>\n",
       "      <td>-0.036385</td>\n",
       "      <td>0.021872</td>\n",
       "      <td>0.003935</td>\n",
       "      <td>0.015596</td>\n",
       "      <td>0.008142</td>\n",
       "      <td>-0.002592</td>\n",
       "      <td>-0.031991</td>\n",
       "      <td>-0.046641</td>\n",
       "      <td>135.0</td>\n",
       "    </tr>\n",
       "  </tbody>\n",
       "</table>\n",
       "</div>"
      ],
      "text/plain": [
       "        age       sex       bmi        bp        s1        s2        s3  \\\n",
       "0  0.038076  0.050680  0.061696  0.021872 -0.044223 -0.034821 -0.043401   \n",
       "1 -0.001882 -0.044642 -0.051474 -0.026328 -0.008449 -0.019163  0.074412   \n",
       "2  0.085299  0.050680  0.044451 -0.005671 -0.045599 -0.034194 -0.032356   \n",
       "3 -0.089063 -0.044642 -0.011595 -0.036656  0.012191  0.024991 -0.036038   \n",
       "4  0.005383 -0.044642 -0.036385  0.021872  0.003935  0.015596  0.008142   \n",
       "\n",
       "         s4        s5        s6  disease_pro  \n",
       "0 -0.002592  0.019908 -0.017646        151.0  \n",
       "1 -0.039493 -0.068330 -0.092204         75.0  \n",
       "2 -0.002592  0.002864 -0.025930        141.0  \n",
       "3  0.034309  0.022692 -0.009362        206.0  \n",
       "4 -0.002592 -0.031991 -0.046641        135.0  "
      ]
     },
     "execution_count": 3,
     "metadata": {},
     "output_type": "execute_result"
    }
   ],
   "source": [
    "data = pd.DataFrame(data=data_dia.data, columns=data_dia.feature_names)\n",
    "data['disease_pro'] = data_dia.target\n",
    "data.head()"
   ]
  },
  {
   "cell_type": "markdown",
   "id": "9fdb3e25-cecc-46f4-80c1-bef4e7137895",
   "metadata": {},
   "source": [
    "<h3>Rename the columns in order to easly understand more"
   ]
  },
  {
   "cell_type": "code",
   "execution_count": 4,
   "id": "a5438676-afbc-4c49-8e2a-7c71d7280d3e",
   "metadata": {},
   "outputs": [
    {
     "data": {
      "text/html": [
       "<div>\n",
       "<style scoped>\n",
       "    .dataframe tbody tr th:only-of-type {\n",
       "        vertical-align: middle;\n",
       "    }\n",
       "\n",
       "    .dataframe tbody tr th {\n",
       "        vertical-align: top;\n",
       "    }\n",
       "\n",
       "    .dataframe thead th {\n",
       "        text-align: right;\n",
       "    }\n",
       "</style>\n",
       "<table border=\"1\" class=\"dataframe\">\n",
       "  <thead>\n",
       "    <tr style=\"text-align: right;\">\n",
       "      <th></th>\n",
       "      <th>age</th>\n",
       "      <th>sex</th>\n",
       "      <th>bmi</th>\n",
       "      <th>bp</th>\n",
       "      <th>tc</th>\n",
       "      <th>ldl</th>\n",
       "      <th>hdl</th>\n",
       "      <th>tch</th>\n",
       "      <th>ltg</th>\n",
       "      <th>glu</th>\n",
       "      <th>disease_pro</th>\n",
       "    </tr>\n",
       "  </thead>\n",
       "  <tbody>\n",
       "    <tr>\n",
       "      <th>0</th>\n",
       "      <td>0.038076</td>\n",
       "      <td>0.050680</td>\n",
       "      <td>0.061696</td>\n",
       "      <td>0.021872</td>\n",
       "      <td>-0.044223</td>\n",
       "      <td>-0.034821</td>\n",
       "      <td>-0.043401</td>\n",
       "      <td>-0.002592</td>\n",
       "      <td>0.019908</td>\n",
       "      <td>-0.017646</td>\n",
       "      <td>151.0</td>\n",
       "    </tr>\n",
       "    <tr>\n",
       "      <th>1</th>\n",
       "      <td>-0.001882</td>\n",
       "      <td>-0.044642</td>\n",
       "      <td>-0.051474</td>\n",
       "      <td>-0.026328</td>\n",
       "      <td>-0.008449</td>\n",
       "      <td>-0.019163</td>\n",
       "      <td>0.074412</td>\n",
       "      <td>-0.039493</td>\n",
       "      <td>-0.068330</td>\n",
       "      <td>-0.092204</td>\n",
       "      <td>75.0</td>\n",
       "    </tr>\n",
       "    <tr>\n",
       "      <th>2</th>\n",
       "      <td>0.085299</td>\n",
       "      <td>0.050680</td>\n",
       "      <td>0.044451</td>\n",
       "      <td>-0.005671</td>\n",
       "      <td>-0.045599</td>\n",
       "      <td>-0.034194</td>\n",
       "      <td>-0.032356</td>\n",
       "      <td>-0.002592</td>\n",
       "      <td>0.002864</td>\n",
       "      <td>-0.025930</td>\n",
       "      <td>141.0</td>\n",
       "    </tr>\n",
       "    <tr>\n",
       "      <th>3</th>\n",
       "      <td>-0.089063</td>\n",
       "      <td>-0.044642</td>\n",
       "      <td>-0.011595</td>\n",
       "      <td>-0.036656</td>\n",
       "      <td>0.012191</td>\n",
       "      <td>0.024991</td>\n",
       "      <td>-0.036038</td>\n",
       "      <td>0.034309</td>\n",
       "      <td>0.022692</td>\n",
       "      <td>-0.009362</td>\n",
       "      <td>206.0</td>\n",
       "    </tr>\n",
       "    <tr>\n",
       "      <th>4</th>\n",
       "      <td>0.005383</td>\n",
       "      <td>-0.044642</td>\n",
       "      <td>-0.036385</td>\n",
       "      <td>0.021872</td>\n",
       "      <td>0.003935</td>\n",
       "      <td>0.015596</td>\n",
       "      <td>0.008142</td>\n",
       "      <td>-0.002592</td>\n",
       "      <td>-0.031991</td>\n",
       "      <td>-0.046641</td>\n",
       "      <td>135.0</td>\n",
       "    </tr>\n",
       "  </tbody>\n",
       "</table>\n",
       "</div>"
      ],
      "text/plain": [
       "        age       sex       bmi        bp        tc       ldl       hdl  \\\n",
       "0  0.038076  0.050680  0.061696  0.021872 -0.044223 -0.034821 -0.043401   \n",
       "1 -0.001882 -0.044642 -0.051474 -0.026328 -0.008449 -0.019163  0.074412   \n",
       "2  0.085299  0.050680  0.044451 -0.005671 -0.045599 -0.034194 -0.032356   \n",
       "3 -0.089063 -0.044642 -0.011595 -0.036656  0.012191  0.024991 -0.036038   \n",
       "4  0.005383 -0.044642 -0.036385  0.021872  0.003935  0.015596  0.008142   \n",
       "\n",
       "        tch       ltg       glu  disease_pro  \n",
       "0 -0.002592  0.019908 -0.017646        151.0  \n",
       "1 -0.039493 -0.068330 -0.092204         75.0  \n",
       "2 -0.002592  0.002864 -0.025930        141.0  \n",
       "3  0.034309  0.022692 -0.009362        206.0  \n",
       "4 -0.002592 -0.031991 -0.046641        135.0  "
      ]
     },
     "execution_count": 4,
     "metadata": {},
     "output_type": "execute_result"
    }
   ],
   "source": [
    "data.rename(columns={\"s1\":\"tc\",\"s2\":\"ldl\",\"s3\":\"hdl\",\"s4\":\"tch\",\"s5\":\"ltg\",\"s6\":\"glu\"}, inplace=True)\n",
    "data.head()"
   ]
  },
  {
   "cell_type": "code",
   "execution_count": 5,
   "id": "2b2ad5c4-03c0-431f-a881-e26e6529cb7c",
   "metadata": {},
   "outputs": [
    {
     "name": "stdout",
     "output_type": "stream",
     "text": [
      "data shape: (442, 11)\n"
     ]
    },
    {
     "data": {
      "text/html": [
       "<div>\n",
       "<style scoped>\n",
       "    .dataframe tbody tr th:only-of-type {\n",
       "        vertical-align: middle;\n",
       "    }\n",
       "\n",
       "    .dataframe tbody tr th {\n",
       "        vertical-align: top;\n",
       "    }\n",
       "\n",
       "    .dataframe thead th {\n",
       "        text-align: right;\n",
       "    }\n",
       "</style>\n",
       "<table border=\"1\" class=\"dataframe\">\n",
       "  <thead>\n",
       "    <tr style=\"text-align: right;\">\n",
       "      <th></th>\n",
       "      <th>age</th>\n",
       "      <th>sex</th>\n",
       "      <th>bmi</th>\n",
       "      <th>bp</th>\n",
       "      <th>tc</th>\n",
       "      <th>ldl</th>\n",
       "      <th>hdl</th>\n",
       "      <th>tch</th>\n",
       "      <th>ltg</th>\n",
       "      <th>glu</th>\n",
       "      <th>disease_pro</th>\n",
       "    </tr>\n",
       "  </thead>\n",
       "  <tbody>\n",
       "    <tr>\n",
       "      <th>count</th>\n",
       "      <td>4.420000e+02</td>\n",
       "      <td>4.420000e+02</td>\n",
       "      <td>4.420000e+02</td>\n",
       "      <td>4.420000e+02</td>\n",
       "      <td>4.420000e+02</td>\n",
       "      <td>4.420000e+02</td>\n",
       "      <td>4.420000e+02</td>\n",
       "      <td>4.420000e+02</td>\n",
       "      <td>4.420000e+02</td>\n",
       "      <td>4.420000e+02</td>\n",
       "      <td>442.000000</td>\n",
       "    </tr>\n",
       "    <tr>\n",
       "      <th>mean</th>\n",
       "      <td>-3.639623e-16</td>\n",
       "      <td>1.309912e-16</td>\n",
       "      <td>-8.013951e-16</td>\n",
       "      <td>1.289818e-16</td>\n",
       "      <td>-9.042540e-17</td>\n",
       "      <td>1.301121e-16</td>\n",
       "      <td>-4.563971e-16</td>\n",
       "      <td>3.863174e-16</td>\n",
       "      <td>-3.848103e-16</td>\n",
       "      <td>-3.398488e-16</td>\n",
       "      <td>152.133484</td>\n",
       "    </tr>\n",
       "    <tr>\n",
       "      <th>std</th>\n",
       "      <td>4.761905e-02</td>\n",
       "      <td>4.761905e-02</td>\n",
       "      <td>4.761905e-02</td>\n",
       "      <td>4.761905e-02</td>\n",
       "      <td>4.761905e-02</td>\n",
       "      <td>4.761905e-02</td>\n",
       "      <td>4.761905e-02</td>\n",
       "      <td>4.761905e-02</td>\n",
       "      <td>4.761905e-02</td>\n",
       "      <td>4.761905e-02</td>\n",
       "      <td>77.093005</td>\n",
       "    </tr>\n",
       "    <tr>\n",
       "      <th>min</th>\n",
       "      <td>-1.072256e-01</td>\n",
       "      <td>-4.464164e-02</td>\n",
       "      <td>-9.027530e-02</td>\n",
       "      <td>-1.123996e-01</td>\n",
       "      <td>-1.267807e-01</td>\n",
       "      <td>-1.156131e-01</td>\n",
       "      <td>-1.023071e-01</td>\n",
       "      <td>-7.639450e-02</td>\n",
       "      <td>-1.260974e-01</td>\n",
       "      <td>-1.377672e-01</td>\n",
       "      <td>25.000000</td>\n",
       "    </tr>\n",
       "    <tr>\n",
       "      <th>25%</th>\n",
       "      <td>-3.729927e-02</td>\n",
       "      <td>-4.464164e-02</td>\n",
       "      <td>-3.422907e-02</td>\n",
       "      <td>-3.665645e-02</td>\n",
       "      <td>-3.424784e-02</td>\n",
       "      <td>-3.035840e-02</td>\n",
       "      <td>-3.511716e-02</td>\n",
       "      <td>-3.949338e-02</td>\n",
       "      <td>-3.324879e-02</td>\n",
       "      <td>-3.317903e-02</td>\n",
       "      <td>87.000000</td>\n",
       "    </tr>\n",
       "    <tr>\n",
       "      <th>50%</th>\n",
       "      <td>5.383060e-03</td>\n",
       "      <td>-4.464164e-02</td>\n",
       "      <td>-7.283766e-03</td>\n",
       "      <td>-5.670611e-03</td>\n",
       "      <td>-4.320866e-03</td>\n",
       "      <td>-3.819065e-03</td>\n",
       "      <td>-6.584468e-03</td>\n",
       "      <td>-2.592262e-03</td>\n",
       "      <td>-1.947634e-03</td>\n",
       "      <td>-1.077698e-03</td>\n",
       "      <td>140.500000</td>\n",
       "    </tr>\n",
       "    <tr>\n",
       "      <th>75%</th>\n",
       "      <td>3.807591e-02</td>\n",
       "      <td>5.068012e-02</td>\n",
       "      <td>3.124802e-02</td>\n",
       "      <td>3.564384e-02</td>\n",
       "      <td>2.835801e-02</td>\n",
       "      <td>2.984439e-02</td>\n",
       "      <td>2.931150e-02</td>\n",
       "      <td>3.430886e-02</td>\n",
       "      <td>3.243323e-02</td>\n",
       "      <td>2.791705e-02</td>\n",
       "      <td>211.500000</td>\n",
       "    </tr>\n",
       "    <tr>\n",
       "      <th>max</th>\n",
       "      <td>1.107267e-01</td>\n",
       "      <td>5.068012e-02</td>\n",
       "      <td>1.705552e-01</td>\n",
       "      <td>1.320442e-01</td>\n",
       "      <td>1.539137e-01</td>\n",
       "      <td>1.987880e-01</td>\n",
       "      <td>1.811791e-01</td>\n",
       "      <td>1.852344e-01</td>\n",
       "      <td>1.335990e-01</td>\n",
       "      <td>1.356118e-01</td>\n",
       "      <td>346.000000</td>\n",
       "    </tr>\n",
       "  </tbody>\n",
       "</table>\n",
       "</div>"
      ],
      "text/plain": [
       "                age           sex           bmi            bp            tc  \\\n",
       "count  4.420000e+02  4.420000e+02  4.420000e+02  4.420000e+02  4.420000e+02   \n",
       "mean  -3.639623e-16  1.309912e-16 -8.013951e-16  1.289818e-16 -9.042540e-17   \n",
       "std    4.761905e-02  4.761905e-02  4.761905e-02  4.761905e-02  4.761905e-02   \n",
       "min   -1.072256e-01 -4.464164e-02 -9.027530e-02 -1.123996e-01 -1.267807e-01   \n",
       "25%   -3.729927e-02 -4.464164e-02 -3.422907e-02 -3.665645e-02 -3.424784e-02   \n",
       "50%    5.383060e-03 -4.464164e-02 -7.283766e-03 -5.670611e-03 -4.320866e-03   \n",
       "75%    3.807591e-02  5.068012e-02  3.124802e-02  3.564384e-02  2.835801e-02   \n",
       "max    1.107267e-01  5.068012e-02  1.705552e-01  1.320442e-01  1.539137e-01   \n",
       "\n",
       "                ldl           hdl           tch           ltg           glu  \\\n",
       "count  4.420000e+02  4.420000e+02  4.420000e+02  4.420000e+02  4.420000e+02   \n",
       "mean   1.301121e-16 -4.563971e-16  3.863174e-16 -3.848103e-16 -3.398488e-16   \n",
       "std    4.761905e-02  4.761905e-02  4.761905e-02  4.761905e-02  4.761905e-02   \n",
       "min   -1.156131e-01 -1.023071e-01 -7.639450e-02 -1.260974e-01 -1.377672e-01   \n",
       "25%   -3.035840e-02 -3.511716e-02 -3.949338e-02 -3.324879e-02 -3.317903e-02   \n",
       "50%   -3.819065e-03 -6.584468e-03 -2.592262e-03 -1.947634e-03 -1.077698e-03   \n",
       "75%    2.984439e-02  2.931150e-02  3.430886e-02  3.243323e-02  2.791705e-02   \n",
       "max    1.987880e-01  1.811791e-01  1.852344e-01  1.335990e-01  1.356118e-01   \n",
       "\n",
       "       disease_pro  \n",
       "count   442.000000  \n",
       "mean    152.133484  \n",
       "std      77.093005  \n",
       "min      25.000000  \n",
       "25%      87.000000  \n",
       "50%     140.500000  \n",
       "75%     211.500000  \n",
       "max     346.000000  "
      ]
     },
     "execution_count": 5,
     "metadata": {},
     "output_type": "execute_result"
    }
   ],
   "source": [
    "print(\"data shape:\", data.shape)\n",
    "data.describe()"
   ]
  },
  {
   "cell_type": "markdown",
   "id": "47110c90-d6b1-479c-942c-87b6318ad6b0",
   "metadata": {},
   "source": [
    "<h3>Quality of Data: Missing Values and Outliers"
   ]
  },
  {
   "cell_type": "code",
   "execution_count": 6,
   "id": "9824d949-cb2b-40a7-9ba0-0d62adcb5cf2",
   "metadata": {},
   "outputs": [
    {
     "name": "stdout",
     "output_type": "stream",
     "text": [
      "<class 'pandas.core.frame.DataFrame'>\n",
      "RangeIndex: 442 entries, 0 to 441\n",
      "Data columns (total 11 columns):\n",
      " #   Column       Non-Null Count  Dtype  \n",
      "---  ------       --------------  -----  \n",
      " 0   age          442 non-null    float64\n",
      " 1   sex          442 non-null    float64\n",
      " 2   bmi          442 non-null    float64\n",
      " 3   bp           442 non-null    float64\n",
      " 4   tc           442 non-null    float64\n",
      " 5   ldl          442 non-null    float64\n",
      " 6   hdl          442 non-null    float64\n",
      " 7   tch          442 non-null    float64\n",
      " 8   ltg          442 non-null    float64\n",
      " 9   glu          442 non-null    float64\n",
      " 10  disease_pro  442 non-null    float64\n",
      "dtypes: float64(11)\n",
      "memory usage: 38.1 KB\n"
     ]
    }
   ],
   "source": [
    "data.info()"
   ]
  },
  {
   "cell_type": "markdown",
   "id": "339291a2-6843-4b8b-bd62-8c51ead4e424",
   "metadata": {},
   "source": [
    "The dataset has been <b>scaled</b> and there is <b>no missing</b> values"
   ]
  },
  {
   "cell_type": "code",
   "execution_count": 7,
   "id": "5f38afb0-8ff7-4af7-a91e-25b9540104ab",
   "metadata": {},
   "outputs": [
    {
     "data": {
      "text/plain": [
       "<AxesSubplot:>"
      ]
     },
     "execution_count": 7,
     "metadata": {},
     "output_type": "execute_result"
    },
    {
     "data": {
      "image/png": "[encoded data removed]",
      "text/plain": [
       "<Figure size 432x288 with 1 Axes>"
      ]
     },
     "metadata": {
      "needs_background": "light"
     },
     "output_type": "display_data"
    }
   ],
   "source": [
    "data.loc[:, data.columns != \"disease_pro\"].boxplot()"
   ]
  },
  {
   "cell_type": "markdown",
   "id": "a6d27a1c-ca62-435f-97d2-500844263d3b",
   "metadata": {},
   "source": [
    "There are outliers in each baseline <b>except</b> age and gender"
   ]
  },
  {
   "cell_type": "code",
   "execution_count": 8,
   "id": "878c6e5c-e456-45b1-8699-f83f751f28aa",
   "metadata": {},
   "outputs": [
    {
     "data": {
      "text/plain": [
       "<AxesSubplot:>"
      ]
     },
     "execution_count": 8,
     "metadata": {},
     "output_type": "execute_result"
    },
    {
     "data": {
      "image/png": "[encoded data removed]",
      "text/plain": [
       "<Figure size 432x288 with 1 Axes>"
      ]
     },
     "metadata": {
      "needs_background": "light"
     },
     "output_type": "display_data"
    }
   ],
   "source": [
    "# I separate disease column. Because it has different scale with others\n",
    "data[\"disease_pro\"].plot.box(vert=False)"
   ]
  },
  {
   "cell_type": "markdown",
   "id": "73fbb782-ebf4-423c-8850-b0c696176bbb",
   "metadata": {},
   "source": [
    "<h3>Handle Outliers"
   ]
  },
  {
   "cell_type": "code",
   "execution_count": 9,
   "id": "747655a2-08d6-46b2-8b84-040644b6e708",
   "metadata": {},
   "outputs": [
    {
     "name": "stdout",
     "output_type": "stream",
     "text": [
      "Old Shape:  (442, 11)\n",
      "New Shape:  (405, 11)\n",
      "Number of Outliers:  37\n",
      "Percentage of Removed Data: 8.37%\n"
     ]
    }
   ],
   "source": [
    "data_newr = data.copy() \n",
    "\n",
    "# Looping for determining Q1, Q3, IQR and Removing outliers\n",
    "for column in data_newr.columns:\n",
    "    Q1 = data_newr[column].quantile(0.25)\n",
    "    Q3 = data_newr[column].quantile(0.75)\n",
    "    IQR = Q3 - Q1\n",
    "    data_newr = data_newr[~((data_newr[column] < (Q1 - 1.5*IQR)) | (data_newr[column] > (Q3 + 1.5*IQR)))]\n",
    "    \n",
    "# Check ukuran (baris dan kolom) sebelum dan setelah data yang outliers dibuang\n",
    "print('Old Shape: ', data.shape)\n",
    "print('New Shape: ', data_newr.shape)\n",
    "print('Number of Outliers: ', data.shape[0] - data_newr.shape[0])\n",
    "print('Percentage of Removed Data:', \"{:.2%}\".format((data.shape[0] - data_newr.shape[0])/data.shape[0]))"
   ]
  },
  {
   "cell_type": "markdown",
   "id": "47ad639d-6df3-412a-8a2a-6a140407feea",
   "metadata": {},
   "source": [
    "<h3># Correlation of Target with Features"
   ]
  },
  {
   "cell_type": "markdown",
   "id": "10503743-9041-4965-9ba1-7f0aa51b9d33",
   "metadata": {},
   "source": [
    "According to [User's guide to correlation coefficients](https://www.ncbi.nlm.nih.gov/pmc/articles/PMC6107969/), level of correlation for medicine world can be classed the following:\n",
    "\n",
    "![Correlation_Cofficients](images/CorrelationCoefficients.jpg)"
   ]
  },
  {
   "cell_type": "code",
   "execution_count": 10,
   "id": "e0ebf361-0a27-4ec8-ab61-402687464084",
   "metadata": {},
   "outputs": [
    {
     "data": {
      "text/plain": [
       "<AxesSubplot:>"
      ]
     },
     "execution_count": 10,
     "metadata": {},
     "output_type": "execute_result"
    },
    {
     "data": {
      "image/png": "[encoded data removed]",
      "text/plain": [
       "<Figure size 432x288 with 2 Axes>"
      ]
     },
     "metadata": {
      "needs_background": "light"
     },
     "output_type": "display_data"
    }
   ],
   "source": [
    "sns.heatmap(data_newr.corr(), annot=True)"
   ]
  },
  {
   "cell_type": "markdown",
   "id": "bc2a6025-f456-44cf-a3c3-9d158f0a78c7",
   "metadata": {},
   "source": [
    "<h3># Sequence of Factors Contributing to Disease Progression"
   ]
  },
  {
   "cell_type": "code",
   "execution_count": 11,
   "id": "8a51d34b-8993-4355-9174-50bf80d7f683",
   "metadata": {},
   "outputs": [
    {
     "data": {
      "image/png": "[encoded data removed]",
      "text/plain": [
       "<Figure size 432x288 with 1 Axes>"
      ]
     },
     "metadata": {
      "needs_background": "light"
     },
     "output_type": "display_data"
    }
   ],
   "source": [
    "import matplotlib.pyplot as plt\n",
    "corre = pd.DataFrame(data_newr.corr())\n",
    "corre_dp = corre[\"disease_pro\"].sort_values()\n",
    "corre_dp.plot(kind=\"barh\")\n",
    "plt.ylabel(\"baseline\")\n",
    "plt.xlabel(\"correlation\")\n",
    "plt.title(\"Values of Correlation towards Disease Progression\")\n",
    "plt.show()"
   ]
  },
  {
   "cell_type": "markdown",
   "id": "17569787-fa17-45ba-8559-95d33fe28c28",
   "metadata": {},
   "source": [
    "<h4>> Level of Correlation"
   ]
  },
  {
   "cell_type": "code",
   "execution_count": 12,
   "id": "1ebe07ed-4ad1-4291-9050-2b8c24eb8cf7",
   "metadata": {},
   "outputs": [],
   "source": [
    "for ind in corre.index:\n",
    "    if ((corre.loc[ind,\"disease_pro\"] > 0.95) | (corre.loc[ind,\"disease_pro\"] < -0.95)):\n",
    "        corre.loc[ind,\"level\"] = \"Perfect\"\n",
    "    elif ((corre.loc[ind,\"disease_pro\"] > 0.75) | (corre.loc[ind,\"disease_pro\"] < -0.75)):\n",
    "        corre.loc[ind,\"level\"] = \"Very Strong\"\n",
    "    elif ((corre.loc[ind,\"disease_pro\"] > 0.55) | (corre.loc[ind,\"disease_pro\"] < -0.55)):\n",
    "        corre.loc[ind,\"level\"] = \"Moderate\"\n",
    "    elif ((corre.loc[ind,\"disease_pro\"] > 0.25) | (corre.loc[ind,\"disease_pro\"] < -0.25)):\n",
    "        corre.loc[ind,\"level\"] = \"Fair\"\n",
    "    elif ((corre.loc[ind,\"disease_pro\"] > 0.05) | (corre.loc[ind,\"disease_pro\"] < -0.05)):\n",
    "        corre.loc[ind,\"level\"] = \"Poor\"\n",
    "    else:\n",
    "        corre.loc[ind,\"level\"] = \"None\""
   ]
  },
  {
   "cell_type": "markdown",
   "id": "590a3d95-dd12-4ead-9266-71d0a6220c38",
   "metadata": {},
   "source": [
    "from the above, we can know that correlation between Disease Progression and each variable baseline is relatively higher than 0.25. Age, sex, total serum cholesterol, and low-density lipoproteins are exception. And high_density lipoproteins negatively correlate with disease progression (> 0.35). And <b>the factors that contribute the most (moderate) is body mass index (BMI) and possibly log of serum triglycerides level (LTG)</b>, both value is higher that 0.55. The list of level of contribution is the following:"
   ]
  },
  {
   "cell_type": "code",
   "execution_count": 13,
   "id": "e1f4ba3c-089c-4863-b9fc-28ef37296933",
   "metadata": {},
   "outputs": [
    {
     "data": {
      "text/html": [
       "<div>\n",
       "<style scoped>\n",
       "    .dataframe tbody tr th:only-of-type {\n",
       "        vertical-align: middle;\n",
       "    }\n",
       "\n",
       "    .dataframe tbody tr th {\n",
       "        vertical-align: top;\n",
       "    }\n",
       "\n",
       "    .dataframe thead th {\n",
       "        text-align: right;\n",
       "    }\n",
       "</style>\n",
       "<table border=\"1\" class=\"dataframe\">\n",
       "  <thead>\n",
       "    <tr style=\"text-align: right;\">\n",
       "      <th></th>\n",
       "      <th>disease_pro</th>\n",
       "      <th>level</th>\n",
       "    </tr>\n",
       "  </thead>\n",
       "  <tbody>\n",
       "    <tr>\n",
       "      <th>disease_pro</th>\n",
       "      <td>1.000000</td>\n",
       "      <td>Perfect</td>\n",
       "    </tr>\n",
       "    <tr>\n",
       "      <th>bmi</th>\n",
       "      <td>0.569476</td>\n",
       "      <td>Moderate</td>\n",
       "    </tr>\n",
       "    <tr>\n",
       "      <th>ltg</th>\n",
       "      <td>0.551414</td>\n",
       "      <td>Moderate</td>\n",
       "    </tr>\n",
       "    <tr>\n",
       "      <th>bp</th>\n",
       "      <td>0.435305</td>\n",
       "      <td>Fair</td>\n",
       "    </tr>\n",
       "    <tr>\n",
       "      <th>tch</th>\n",
       "      <td>0.387616</td>\n",
       "      <td>Fair</td>\n",
       "    </tr>\n",
       "    <tr>\n",
       "      <th>glu</th>\n",
       "      <td>0.334036</td>\n",
       "      <td>Fair</td>\n",
       "    </tr>\n",
       "    <tr>\n",
       "      <th>age</th>\n",
       "      <td>0.196244</td>\n",
       "      <td>Poor</td>\n",
       "    </tr>\n",
       "    <tr>\n",
       "      <th>tc</th>\n",
       "      <td>0.179599</td>\n",
       "      <td>Poor</td>\n",
       "    </tr>\n",
       "    <tr>\n",
       "      <th>ldl</th>\n",
       "      <td>0.138814</td>\n",
       "      <td>Poor</td>\n",
       "    </tr>\n",
       "    <tr>\n",
       "      <th>sex</th>\n",
       "      <td>0.024371</td>\n",
       "      <td>None</td>\n",
       "    </tr>\n",
       "    <tr>\n",
       "      <th>hdl</th>\n",
       "      <td>-0.367967</td>\n",
       "      <td>Fair</td>\n",
       "    </tr>\n",
       "  </tbody>\n",
       "</table>\n",
       "</div>"
      ],
      "text/plain": [
       "             disease_pro     level\n",
       "disease_pro     1.000000   Perfect\n",
       "bmi             0.569476  Moderate\n",
       "ltg             0.551414  Moderate\n",
       "bp              0.435305      Fair\n",
       "tch             0.387616      Fair\n",
       "glu             0.334036      Fair\n",
       "age             0.196244      Poor\n",
       "tc              0.179599      Poor\n",
       "ldl             0.138814      Poor\n",
       "sex             0.024371      None\n",
       "hdl            -0.367967      Fair"
      ]
     },
     "execution_count": 13,
     "metadata": {},
     "output_type": "execute_result"
    }
   ],
   "source": [
    "corre[[\"disease_pro\",\"level\"]].sort_values(by=\"disease_pro\", ascending=False)"
   ]
  },
  {
   "cell_type": "markdown",
   "id": "f185eadb-c516-429f-bada-5aa5697ec91f",
   "metadata": {},
   "source": [
    "<h3>1# What is the distribution of the Disease Progression looks like?"
   ]
  },
  {
   "cell_type": "code",
   "execution_count": 14,
   "id": "36545a54-ba1b-4dab-a957-a595424253f9",
   "metadata": {},
   "outputs": [
    {
     "data": {
      "text/plain": [
       "count    405.000000\n",
       "mean     148.590123\n",
       "std       75.182681\n",
       "min       25.000000\n",
       "25%       85.000000\n",
       "50%      138.000000\n",
       "75%      200.000000\n",
       "max      341.000000\n",
       "Name: disease_pro, dtype: float64"
      ]
     },
     "execution_count": 14,
     "metadata": {},
     "output_type": "execute_result"
    }
   ],
   "source": [
    "data_newr['disease_pro'].describe()"
   ]
  },
  {
   "cell_type": "code",
   "execution_count": 15,
   "id": "439ec6d1-9134-4534-8bfe-cb2bef7ce31e",
   "metadata": {},
   "outputs": [
    {
     "data": {
      "image/png": "[encoded data removed]",
      "text/plain": [
       "<Figure size 432x288 with 1 Axes>"
      ]
     },
     "metadata": {
      "needs_background": "light"
     },
     "output_type": "display_data"
    }
   ],
   "source": [
    "data_newr['disease_pro'].hist()\n",
    "plt.ylabel(\"Count\")\n",
    "plt.xlabel(\"Disease Progression\")\n",
    "plt.title(\"Histogram of Disease Progression\")\n",
    "plt.show()"
   ]
  },
  {
   "cell_type": "markdown",
   "id": "581b388c-4517-4bf1-ab70-bdfc814991dc",
   "metadata": {},
   "source": [
    "The disease progression is ranged from 25 to 341. The distribution is right skewed which indicates more disease progression have a value below the overall average (148.6)"
   ]
  },
  {
   "cell_type": "markdown",
   "id": "4f83c707-2e47-40c1-8d6d-0770f54a3fee",
   "metadata": {},
   "source": [
    "<h3>2# Does BMI make diabetes disease worse?</h3>\n",
    "\n",
    "> according to correlation analysis, body mass index (BMI) correlation value is the highest (0.57, moderate) for disease progression. Let's see the scatter plot"
   ]
  },
  {
   "cell_type": "code",
   "execution_count": 16,
   "id": "03660ed7-cb80-49bd-a041-3031ad072926",
   "metadata": {},
   "outputs": [
    {
     "data": {
      "text/plain": [
       "<AxesSubplot:xlabel='bmi', ylabel='disease_pro'>"
      ]
     },
     "execution_count": 16,
     "metadata": {},
     "output_type": "execute_result"
    },
    {
     "data": {
      "image/png": "[encoded data removed]",
      "text/plain": [
       "<Figure size 432x288 with 1 Axes>"
      ]
     },
     "metadata": {
      "needs_background": "light"
     },
     "output_type": "display_data"
    }
   ],
   "source": [
    "sns.regplot(data=data_newr[[\"bmi\",\"disease_pro\"]],\n",
    "            x=\"bmi\", y=\"disease_pro\",\n",
    "            line_kws={\"color\": \"red\"})"
   ]
  },
  {
   "cell_type": "markdown",
   "id": "6c45962d-8620-4b28-bdd0-c425f725eae6",
   "metadata": {},
   "source": [
    "<h3>3# The Older a Person, The Higher Blood Sugar Level?</h3>\n",
    "\n",
    ">As we know, commonly people get diabetes and reliaze it when they are already old. let's prove it by data!"
   ]
  },
  {
   "cell_type": "code",
   "execution_count": 17,
   "id": "ac6191b1-2053-4437-b044-be6d3e39340d",
   "metadata": {
    "tags": []
   },
   "outputs": [
    {
     "data": {
      "text/html": [
       "<div>\n",
       "<style scoped>\n",
       "    .dataframe tbody tr th:only-of-type {\n",
       "        vertical-align: middle;\n",
       "    }\n",
       "\n",
       "    .dataframe tbody tr th {\n",
       "        vertical-align: top;\n",
       "    }\n",
       "\n",
       "    .dataframe thead th {\n",
       "        text-align: right;\n",
       "    }\n",
       "</style>\n",
       "<table border=\"1\" class=\"dataframe\">\n",
       "  <thead>\n",
       "    <tr style=\"text-align: right;\">\n",
       "      <th></th>\n",
       "      <th>age</th>\n",
       "      <th>glu</th>\n",
       "    </tr>\n",
       "  </thead>\n",
       "  <tbody>\n",
       "    <tr>\n",
       "      <th>age</th>\n",
       "      <td>1.000000</td>\n",
       "      <td>0.331606</td>\n",
       "    </tr>\n",
       "    <tr>\n",
       "      <th>glu</th>\n",
       "      <td>0.331606</td>\n",
       "      <td>1.000000</td>\n",
       "    </tr>\n",
       "  </tbody>\n",
       "</table>\n",
       "</div>"
      ],
      "text/plain": [
       "          age       glu\n",
       "age  1.000000  0.331606\n",
       "glu  0.331606  1.000000"
      ]
     },
     "execution_count": 17,
     "metadata": {},
     "output_type": "execute_result"
    }
   ],
   "source": [
    "data_newr[[\"age\",\"glu\"]].corr()"
   ]
  },
  {
   "cell_type": "code",
   "execution_count": 18,
   "id": "670c7669-01fe-47bb-baa8-c82a69b36ba4",
   "metadata": {},
   "outputs": [
    {
     "data": {
      "text/plain": [
       "<AxesSubplot:xlabel='age', ylabel='glu'>"
      ]
     },
     "execution_count": 18,
     "metadata": {},
     "output_type": "execute_result"
    },
    {
     "data": {
      "image/png": "[encoded data removed]",
      "text/plain": [
       "<Figure size 432x288 with 1 Axes>"
      ]
     },
     "metadata": {
      "needs_background": "light"
     },
     "output_type": "display_data"
    }
   ],
   "source": [
    "sns.regplot(data=data_newr.sample(100, random_state=1), \n",
    "            x=\"age\", y=\"glu\",\n",
    "            line_kws={\"color\": \"red\"})"
   ]
  },
  {
   "cell_type": "markdown",
   "id": "c587c0f2-77d5-4dd1-a0fe-7b85a5ed5095",
   "metadata": {},
   "source": [
    "Yap, <b>fairly</b> the older a person, the higher blood sugar level"
   ]
  },
  {
   "cell_type": "markdown",
   "id": "e05f16be-ebc9-4c30-9da6-577c8b462ef9",
   "metadata": {},
   "source": [
    "<h3>4# The Older a Person, The more progressive disease?</h3>\n",
    "\n",
    ">Initianally I hypnotize that the older a person, the easier her/his disease worse. let's prove it by data!"
   ]
  },
  {
   "cell_type": "code",
   "execution_count": 19,
   "id": "4f097e25-8628-432c-b4b1-eb206a3231b4",
   "metadata": {
    "tags": []
   },
   "outputs": [
    {
     "data": {
      "text/html": [
       "<div>\n",
       "<style scoped>\n",
       "    .dataframe tbody tr th:only-of-type {\n",
       "        vertical-align: middle;\n",
       "    }\n",
       "\n",
       "    .dataframe tbody tr th {\n",
       "        vertical-align: top;\n",
       "    }\n",
       "\n",
       "    .dataframe thead th {\n",
       "        text-align: right;\n",
       "    }\n",
       "</style>\n",
       "<table border=\"1\" class=\"dataframe\">\n",
       "  <thead>\n",
       "    <tr style=\"text-align: right;\">\n",
       "      <th></th>\n",
       "      <th>age</th>\n",
       "      <th>disease_pro</th>\n",
       "    </tr>\n",
       "  </thead>\n",
       "  <tbody>\n",
       "    <tr>\n",
       "      <th>age</th>\n",
       "      <td>1.000000</td>\n",
       "      <td>0.196244</td>\n",
       "    </tr>\n",
       "    <tr>\n",
       "      <th>disease_pro</th>\n",
       "      <td>0.196244</td>\n",
       "      <td>1.000000</td>\n",
       "    </tr>\n",
       "  </tbody>\n",
       "</table>\n",
       "</div>"
      ],
      "text/plain": [
       "                  age  disease_pro\n",
       "age          1.000000     0.196244\n",
       "disease_pro  0.196244     1.000000"
      ]
     },
     "execution_count": 19,
     "metadata": {},
     "output_type": "execute_result"
    }
   ],
   "source": [
    "data_newr[[\"age\",\"disease_pro\"]].corr()"
   ]
  },
  {
   "cell_type": "code",
   "execution_count": 20,
   "id": "bd85c3c9-bdb2-43ea-bc8e-e5e8769943c9",
   "metadata": {},
   "outputs": [
    {
     "data": {
      "text/plain": [
       "<AxesSubplot:xlabel='age', ylabel='disease_pro'>"
      ]
     },
     "execution_count": 20,
     "metadata": {},
     "output_type": "execute_result"
    },
    {
     "data": {
      "image/png": "[encoded data removed]",
      "text/plain": [
       "<Figure size 432x288 with 1 Axes>"
      ]
     },
     "metadata": {
      "needs_background": "light"
     },
     "output_type": "display_data"
    }
   ],
   "source": [
    "sns.regplot(data=data_newr.sample(100, random_state=1), \n",
    "            x=\"age\", y=\"disease_pro\",\n",
    "            line_kws={\"color\": \"red\"})"
   ]
  },
  {
   "cell_type": "markdown",
   "id": "efbec978-300b-45b7-9e29-f0d261148dd1",
   "metadata": {},
   "source": [
    "And I was wrong. The age is <b>poorly</b> correlated with disease progression"
   ]
  },
  {
   "cell_type": "markdown",
   "id": "0cc7fbf5-1693-4a67-9bfd-3cdea9432592",
   "metadata": {},
   "source": [
    "<h3>5# Is the higher BMI the higher the risk of cholesterol?</h3>\n",
    "\n",
    "> most people think that Cholesterol is synonymous with fat, let's prove it by correlation!"
   ]
  },
  {
   "cell_type": "code",
   "execution_count": 21,
   "id": "b4f69894-4228-483d-a311-8689e7c9e6f1",
   "metadata": {},
   "outputs": [
    {
     "data": {
      "text/html": [
       "<div>\n",
       "<style scoped>\n",
       "    .dataframe tbody tr th:only-of-type {\n",
       "        vertical-align: middle;\n",
       "    }\n",
       "\n",
       "    .dataframe tbody tr th {\n",
       "        vertical-align: top;\n",
       "    }\n",
       "\n",
       "    .dataframe thead th {\n",
       "        text-align: right;\n",
       "    }\n",
       "</style>\n",
       "<table border=\"1\" class=\"dataframe\">\n",
       "  <thead>\n",
       "    <tr style=\"text-align: right;\">\n",
       "      <th></th>\n",
       "      <th>bmi</th>\n",
       "      <th>tch</th>\n",
       "    </tr>\n",
       "  </thead>\n",
       "  <tbody>\n",
       "    <tr>\n",
       "      <th>bmi</th>\n",
       "      <td>1.000000</td>\n",
       "      <td>0.374421</td>\n",
       "    </tr>\n",
       "    <tr>\n",
       "      <th>tch</th>\n",
       "      <td>0.374421</td>\n",
       "      <td>1.000000</td>\n",
       "    </tr>\n",
       "  </tbody>\n",
       "</table>\n",
       "</div>"
      ],
      "text/plain": [
       "          bmi       tch\n",
       "bmi  1.000000  0.374421\n",
       "tch  0.374421  1.000000"
      ]
     },
     "execution_count": 21,
     "metadata": {},
     "output_type": "execute_result"
    }
   ],
   "source": [
    "data_newr[[\"bmi\",\"tch\"]].corr()"
   ]
  },
  {
   "cell_type": "code",
   "execution_count": 22,
   "id": "8a6ec059-97c8-44a6-91eb-eea2b278ea4e",
   "metadata": {},
   "outputs": [
    {
     "data": {
      "text/plain": [
       "<AxesSubplot:xlabel='bmi', ylabel='tch'>"
      ]
     },
     "execution_count": 22,
     "metadata": {},
     "output_type": "execute_result"
    },
    {
     "data": {
      "image/png": "[encoded data removed]",
      "text/plain": [
       "<Figure size 432x288 with 1 Axes>"
      ]
     },
     "metadata": {
      "needs_background": "light"
     },
     "output_type": "display_data"
    }
   ],
   "source": [
    "sns.regplot(data=data_newr.sample(105, random_state=1),\n",
    "            x=\"bmi\", y=\"tch\",\n",
    "            line_kws={\"color\":\"red\"})"
   ]
  },
  {
   "cell_type": "markdown",
   "id": "aba1cfa6-cb5a-4100-a040-cc3fcf2f16fa",
   "metadata": {},
   "source": [
    "Yap, <b>fairly</b> the higher BMI the higher the risk of cholesterol"
   ]
  },
  {
   "cell_type": "markdown",
   "id": "87fbb7fd-ff60-4057-bc58-f53bfc084c23",
   "metadata": {},
   "source": [
    "<h3> Summary </h3>\n",
    "\n",
    "- The data was derived from [here](https://www4.stat.ncsu.edu/~boos/var.select/diabetes.html) which consists of ten baseline variables, age, sex, body mass index, average blood pressure, and six blood serum measurements were obtained for each of n = 442 diabetes patients, as well as the response of interest, a quantitative measure of disease progression one year after baseline.\n",
    "- The dataset has been scaled and there is no missing values\n",
    "- With IQR approach, there are 37 outliers across dataset or about 8.37%. After removing outlier data, n = 405\n",
    "---\n",
    "- High_density lipoproteins **negatively** and **pairly** correlate with disease progression (> 0.35).\n",
    "- The factors that contribute the most (**moderate**) is body mass index and possibly log of serum triglycerides level (>0.55)\n",
    "- The disease progression is ranged from 25 to 341. The distribution is right skewed which indicates more disease progression have a value below the overall average (148.6)\n",
    "- Body mass index (BMI) correlate the most (0.57, moderate) for disease progression.\n",
    "- **fairly** the older a person, the higher blood sugar level\n",
    "- One might think that the older a person, the easier her/his disease worse. But we **can’t proof a strong linear relationship** (correlation is poor, <0.2)\n",
    "- Body mass index pairly correlate to the risk of cholesterol like most people think that Cholesterol is synonymous with fat"
   ]
  }
 ],
 "metadata": {
  "kernelspec": {
   "display_name": "'KLASA_Env'",
   "language": "python",
   "name": "klasa-env"
  },
  "language_info": {
   "codemirror_mode": {
    "name": "ipython",
    "version": 3
   },
   "file_extension": ".py",
   "mimetype": "text/x-python",
   "name": "python",
   "nbconvert_exporter": "python",
   "pygments_lexer": "ipython3",
   "version": "3.7.11"
  }
 },
 "nbformat": 4,
 "nbformat_minor": 5
}
